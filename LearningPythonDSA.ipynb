{
  "nbformat": 4,
  "nbformat_minor": 0,
  "metadata": {
    "colab": {
      "provenance": [],
      "authorship_tag": "ABX9TyMQrpdWxdeNzfMfyjhIgDha",
      "include_colab_link": true
    },
    "kernelspec": {
      "name": "python3",
      "display_name": "Python 3"
    },
    "language_info": {
      "name": "python"
    }
  },
  "cells": [
    {
      "cell_type": "markdown",
      "metadata": {
        "id": "view-in-github",
        "colab_type": "text"
      },
      "source": [
        "<a href=\"https://colab.research.google.com/github/anirudh8926/ML-model-comparision/blob/main/LearningPythonDSA.ipynb\" target=\"_parent\"><img src=\"https://colab.research.google.com/assets/colab-badge.svg\" alt=\"Open In Colab\"/></a>"
      ]
    },
    {
      "cell_type": "code",
      "source": [
        "#linear search code python:\n",
        "r = range(1,101)\n",
        "def linear_search(num):\n",
        "  count = 0\n",
        "  for i in r:\n",
        "   count += 1\n",
        "   if num == i:\n",
        "      print( \"this is the correct number.\")\n",
        "      return f\"the number of tries it took was {count}\"\n",
        "   else:\n",
        "      pass\n",
        "\n",
        "\n",
        "\n",
        "linear_search(34)\n",
        "\n"
      ],
      "metadata": {
        "colab": {
          "base_uri": "https://localhost:8080/",
          "height": 53
        },
        "id": "jnr0QGFTN00R",
        "outputId": "b4c5f3cc-a143-4ef3-87f5-c22a330f40ba"
      },
      "execution_count": null,
      "outputs": [
        {
          "output_type": "stream",
          "name": "stdout",
          "text": [
            "this is the correct number.\n"
          ]
        },
        {
          "output_type": "execute_result",
          "data": {
            "text/plain": [
              "'the number of tries it took was 34'"
            ],
            "application/vnd.google.colaboratory.intrinsic+json": {
              "type": "string"
            }
          },
          "metadata": {},
          "execution_count": 20
        }
      ]
    },
    {
      "cell_type": "code",
      "source": [
        "#binary search. More efficient for sorted data:\n",
        "def Binary_search(guess):\n",
        "  num = 1000\n",
        "\n",
        "  def halver(num):\n",
        "    halv = num/2\n",
        "    if guess<halv:\n",
        "      halver(halv)\n",
        "\n",
        "    print(halv)\n",
        "\n",
        "Binary_search(10)\n",
        "#incomplete, try doing this using a list and a loop.\n"
      ],
      "metadata": {
        "id": "G3_jNmEfg-bW"
      },
      "execution_count": 1,
      "outputs": []
    }
  ]
}